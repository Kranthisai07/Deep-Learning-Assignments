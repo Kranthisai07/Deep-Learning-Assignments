{
 "cells": [
  {
   "cell_type": "markdown",
   "id": "901272f3-5f7e-4352-b92c-a780be088a72",
   "metadata": {},
   "source": [
    "\n",
    "## Zero Shot Classifier\n"
   ]
  },
  {
   "cell_type": "code",
   "execution_count": 2,
   "id": "429d10f0-5605-46aa-ba1c-834a8c790972",
   "metadata": {},
   "outputs": [],
   "source": [
    "from transformers import pipeline"
   ]
  },
  {
   "cell_type": "code",
   "execution_count": 3,
   "id": "3ee0d1ab-9c9a-4bc6-92fc-8d49ba01ea9a",
   "metadata": {},
   "outputs": [
    {
     "name": "stderr",
     "output_type": "stream",
     "text": [
      "Some weights of the model checkpoint at roberta-large-mnli were not used when initializing RobertaForSequenceClassification: ['roberta.pooler.dense.bias', 'roberta.pooler.dense.weight']\n",
      "- This IS expected if you are initializing RobertaForSequenceClassification from the checkpoint of a model trained on another task or with another architecture (e.g. initializing a BertForSequenceClassification model from a BertForPreTraining model).\n",
      "- This IS NOT expected if you are initializing RobertaForSequenceClassification from the checkpoint of a model that you expect to be exactly identical (initializing a BertForSequenceClassification model from a BertForSequenceClassification model).\n",
      "Device set to use cpu\n"
     ]
    }
   ],
   "source": [
    "# Load the Zero-Shot Classifier with a unique model\n",
    "classifier = pipeline(\"zero-shot-classification\", model=\"roberta-large-mnli\", device=\"cpu\")\n",
    "\n"
   ]
  },
  {
   "cell_type": "code",
   "execution_count": 4,
   "id": "c6f61b52-ab73-4557-a83f-11d5816f8082",
   "metadata": {},
   "outputs": [],
   "source": [
    "# Step 2: Input text about technology trends\n",
    "text = [\n",
    "    \"OpenAI has unveiled GPT-5, a groundbreaking AI model capable of human-like reasoning and creativity, setting a new benchmark in the field of artificial intelligence.\",\n",
    "    \"Apple released the iPhone 15, featuring a slightly faster processor and improved battery life, but with no major design changes.\",\n",
    "    \"The tech industry has seen little innovation in the past year, with companies focusing on cost-cutting rather than developing new products.\",\n",
    "    \"Quantum computing has achieved a major milestone, with researchers successfully demonstrating error correction at scale, paving the way for practical applications.\",\n",
    "    \"Microsoft announced a new version of Windows with minor updates to the user interface and performance optimizations.\"\n",
    "]"
   ]
  },
  {
   "cell_type": "code",
   "execution_count": 5,
   "id": "5dd9d550-2bf2-4f42-ac9d-1f71cc3414c8",
   "metadata": {},
   "outputs": [],
   "source": [
    "# Step 3: Custom labels for technology trends\n",
    "labels = [\"positive\", \"negative\", \"neutral\"]"
   ]
  },
  {
   "cell_type": "code",
   "execution_count": 6,
   "id": "8cde7788-d763-43c7-8b30-cca4b7bbe62d",
   "metadata": {},
   "outputs": [
    {
     "name": "stdout",
     "output_type": "stream",
     "text": [
      "{'sequence': 'OpenAI has unveiled GPT-5, a groundbreaking AI model capable of human-like reasoning and creativity, setting a new benchmark in the field of artificial intelligence.', 'labels': ['positive', 'neutral', 'negative'], 'scores': [0.9281026124954224, 0.05634497106075287, 0.015552487224340439]}\n",
      "{'sequence': 'Apple released the iPhone 15, featuring a slightly faster processor and improved battery life, but with no major design changes.', 'labels': ['neutral', 'positive', 'negative'], 'scores': [0.5391766428947449, 0.2624407112598419, 0.1983826607465744]}\n",
      "{'sequence': 'The tech industry has seen little innovation in the past year, with companies focusing on cost-cutting rather than developing new products.', 'labels': ['negative', 'neutral', 'positive'], 'scores': [0.8386198878288269, 0.12942825257778168, 0.03195187449455261]}\n",
      "{'sequence': 'Quantum computing has achieved a major milestone, with researchers successfully demonstrating error correction at scale, paving the way for practical applications.', 'labels': ['positive', 'neutral', 'negative'], 'scores': [0.9489935636520386, 0.03957655280828476, 0.011429842561483383]}\n",
      "{'sequence': 'Microsoft announced a new version of Windows with minor updates to the user interface and performance optimizations.', 'labels': ['positive', 'neutral', 'negative'], 'scores': [0.4625977873802185, 0.40883833169937134, 0.12856383621692657]}\n"
     ]
    }
   ],
   "source": [
    "# Step 4: Classify each text\n",
    "for t in text:\n",
    " result = classifier(t, candidate_labels=labels)\n",
    " print(result)"
   ]
  },
  {
   "cell_type": "markdown",
   "id": "eab97f4e-c4f8-44c2-8a97-e9660a995efd",
   "metadata": {},
   "source": [
    "## Bert Model"
   ]
  },
  {
   "cell_type": "code",
   "execution_count": 8,
   "id": "05792876-fdea-4450-aa68-3cc401450958",
   "metadata": {},
   "outputs": [],
   "source": [
    "from transformers import pipeline, BertTokenizer, BertForSequenceClassification"
   ]
  },
  {
   "cell_type": "code",
   "execution_count": 9,
   "id": "b83ec6bd-e769-4b6f-ba77-62ee0942ecce",
   "metadata": {},
   "outputs": [
    {
     "name": "stderr",
     "output_type": "stream",
     "text": [
      "Device set to use cpu\n"
     ]
    }
   ],
   "source": [
    "# Load the BERT model and tokenizer\n",
    "bert_tokenizer = BertTokenizer.from_pretrained(\"ProsusAI/finbert\")\n",
    "bert_model = BertForSequenceClassification.from_pretrained(\"ProsusAI/finbert\")\n",
    "bert_classifier = pipeline(\"text-classification\", model=bert_model, tokenizer=bert_tokenizer, device=\"cpu\")"
   ]
  },
  {
   "cell_type": "code",
   "execution_count": 10,
   "id": "f6656749-dca6-492a-bb83-e38d5ae5a2b4",
   "metadata": {},
   "outputs": [],
   "source": [
    "# Input text about technology trends\n",
    "tech_texts = [\n",
    "    \"OpenAI has unveiled GPT-5, a groundbreaking AI model capable of human-like reasoning and creativity, setting a new benchmark in the field of artificial intelligence.\",\n",
    "    \"Apple released the iPhone 15, featuring a slightly faster processor and improved battery life, but with no major design changes.\",\n",
    "    \"The tech industry has seen little innovation in the past year, with companies focusing on cost-cutting rather than developing new products.\",\n",
    "    \"Quantum computing has achieved a major milestone, with researchers successfully demonstrating error correction at scale, paving the way for practical applications.\",\n",
    "    \"Microsoft announced a new version of Windows with minor updates to the user interface and performance optimizations.\"\n",
    "]"
   ]
  },
  {
   "cell_type": "code",
   "execution_count": 11,
   "id": "53bb6b37-b672-4800-a286-44d48fa99a89",
   "metadata": {},
   "outputs": [
    {
     "name": "stdout",
     "output_type": "stream",
     "text": [
      "BERT Model Results:\n",
      "Text: OpenAI has unveiled GPT-5, a groundbreaking AI model capable of human-like reasoning and creativity, setting a new benchmark in the field of artificial intelligence.\n",
      "Sentiment: [{'label': 'positive', 'score': 0.6728823184967041}]\n",
      "\n",
      "Text: Apple released the iPhone 15, featuring a slightly faster processor and improved battery life, but with no major design changes.\n",
      "Sentiment: [{'label': 'positive', 'score': 0.7065540552139282}]\n",
      "\n",
      "Text: The tech industry has seen little innovation in the past year, with companies focusing on cost-cutting rather than developing new products.\n",
      "Sentiment: [{'label': 'negative', 'score': 0.9024004340171814}]\n",
      "\n",
      "Text: Quantum computing has achieved a major milestone, with researchers successfully demonstrating error correction at scale, paving the way for practical applications.\n",
      "Sentiment: [{'label': 'positive', 'score': 0.8379675149917603}]\n",
      "\n",
      "Text: Microsoft announced a new version of Windows with minor updates to the user interface and performance optimizations.\n",
      "Sentiment: [{'label': 'positive', 'score': 0.5883573889732361}]\n",
      "\n"
     ]
    }
   ],
   "source": [
    "# Classify each text\n",
    "print(\"BERT Model Results:\")\n",
    "for text in tech_texts:\n",
    "    result = bert_classifier(text)\n",
    "    print(f\"Text: {text}\\nSentiment: {result}\\n\")"
   ]
  }
 ],
 "metadata": {
  "kernelspec": {
   "display_name": "Python [conda env:crewai_env]",
   "language": "python",
   "name": "conda-env-crewai_env-py"
  },
  "language_info": {
   "codemirror_mode": {
    "name": "ipython",
    "version": 3
   },
   "file_extension": ".py",
   "mimetype": "text/x-python",
   "name": "python",
   "nbconvert_exporter": "python",
   "pygments_lexer": "ipython3",
   "version": "3.10.16"
  }
 },
 "nbformat": 4,
 "nbformat_minor": 5
}
