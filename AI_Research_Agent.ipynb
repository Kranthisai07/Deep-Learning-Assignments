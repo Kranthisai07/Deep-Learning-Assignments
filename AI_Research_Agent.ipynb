{
 "cells": [
  {
   "cell_type": "code",
   "execution_count": 1,
   "id": "576d79a2-60e3-452b-90e3-a354f6a74ec3",
   "metadata": {},
   "outputs": [],
   "source": [
    "## !pip install crewai\n",
    "## !pip install crewai tools\n",
    "## !pip install langchain-community\n",
    "## !pip install ollama\n",
    "## !pip install crewai-tools\n"
   ]
  },
  {
   "cell_type": "code",
   "execution_count": 12,
   "id": "8cb60c56-ace2-4c1c-9c95-d37660e2aeb2",
   "metadata": {},
   "outputs": [],
   "source": [
    "import warnings\n",
    "from crewai import Agent, Task, Crew, Process\n",
    "from crewai_tools import SerperDevTool\n",
    "from langchain_community.llms import Ollama\n",
    "from crewai import LLM"
   ]
  },
  {
   "cell_type": "code",
   "execution_count": 14,
   "id": "d166cb04-f805-43e6-bc8c-f3da94db1d29",
   "metadata": {},
   "outputs": [],
   "source": [
    "# Suppress Pydantic warnings\n",
    "warnings.filterwarnings(\"ignore\", category=UserWarning, module=\"pydantic._internal._generate_schema\")"
   ]
  },
  {
   "cell_type": "code",
   "execution_count": 16,
   "id": "d2023d94-c416-4a1b-b5f9-b62ce6d47904",
   "metadata": {},
   "outputs": [],
   "source": [
    "ai_research_agent = Agent(\n",
    "    role=\"AI Research Assistant\",\n",
    "    goal=\"Help users understand AI concepts, suggest learning resources, and provide explanations for AI-related topics.\",\n",
    "    backstory=\"You are an AI researcher with extensive knowledge in machine learning, deep learning, and natural language processing. You specialize in helping users understand complex AI concepts and recommending resources for further learning.\",\n",
    "    verbose=True,\n",
    "    llm=LLM(model=\"ollama/llama3.2\", base_url=\"http://localhost:11434\")\n",
    ")"
   ]
  },
  {
   "cell_type": "code",
   "execution_count": 18,
   "id": "1b40c5be-aeb8-4718-a8d8-3fed0fd2d035",
   "metadata": {},
   "outputs": [],
   "source": [
    "ai_concept_task = Task(\n",
    "    description=\"Explain the concept of neural networks and suggest resources for learning more about them.\",\n",
    "    expected_output=\"A detailed explanation of neural networks, including their structure and function, along with a list of recommended resources (books, courses, and articles) for further learning.\",\n",
    "    agent=ai_research_agent,\n",
    "    async_execution=True\n",
    ")\n"
   ]
  },
  {
   "cell_type": "code",
   "execution_count": 20,
   "id": "ca3f0485-2ee1-4630-918d-27bb5650b3c5",
   "metadata": {},
   "outputs": [
    {
     "name": "stderr",
     "output_type": "stream",
     "text": [
      "2025-02-26 17:56:47,091 - 11024 - __init__.py-__init__:537 - WARNING: Overriding of current TracerProvider is not allowed\n"
     ]
    }
   ],
   "source": [
    "my_crew = Crew(\n",
    "    agents=[ai_research_agent],\n",
    "    tasks=[ai_concept_task],\n",
    "    process=Process.sequential,\n",
    "    verbose=True\n",
    ")"
   ]
  },
  {
   "cell_type": "code",
   "execution_count": 24,
   "id": "3f750ebd-4d72-4ca4-b4df-e64392d2abac",
   "metadata": {},
   "outputs": [
    {
     "name": "stdout",
     "output_type": "stream",
     "text": [
      "\u001b[1m\u001b[95m# Agent:\u001b[00m \u001b[1m\u001b[92mAI Research Assistant\u001b[00m\n",
      "\u001b[95m## Task:\u001b[00m \u001b[92mExplain the concept of neural networks and suggest resources for learning more about them.\u001b[00m\n",
      "\n",
      "\n",
      "\u001b[1m\u001b[95m# Agent:\u001b[00m \u001b[1m\u001b[92mAI Research Assistant\u001b[00m\n",
      "\u001b[95m## Final Answer:\u001b[00m \u001b[92m\n",
      "Your final answer must be the great and the most complete as possible, it must be outcome described.\n",
      "\n",
      "**What are Neural Networks?**\n",
      "\n",
      "A neural network is a machine learning model inspired by the structure and function of the human brain. It consists of interconnected nodes or \"neurons\" that process and transmit information. Each neuron receives one or more inputs, performs a computation on those inputs, and then sends the output to other neurons.\n",
      "\n",
      "**Structure of Neural Networks**\n",
      "\n",
      "A typical neural network is composed of three layers:\n",
      "\n",
      "1. **Input Layer**: This layer receives the input data, which can be in the form of images, text, audio, or any other type of data.\n",
      "2. **Hidden Layers**: These layers are where the complex computations take place. Each neuron in a hidden layer applies an activation function to the weighted sum of its inputs, producing an output that is fed into the next layer.\n",
      "3. **Output Layer**: This layer generates the final output of the network, which can be a classification, regression, or any other type of prediction.\n",
      "\n",
      "**Function of Neural Networks**\n",
      "\n",
      "Neural networks are designed to perform tasks such as:\n",
      "\n",
      "* Image recognition and classification\n",
      "* Natural language processing (NLP) and text analysis\n",
      "* Speech recognition and synthesis\n",
      "* Predictive modeling and forecasting\n",
      "\n",
      "The key to the success of neural networks lies in their ability to learn from data. During training, the network adjusts its weights and biases to minimize the error between its predictions and the actual output. This process is repeated millions of times, allowing the network to improve its accuracy and make more accurate predictions.\n",
      "\n",
      "**Types of Neural Networks**\n",
      "\n",
      "There are several types of neural networks, including:\n",
      "\n",
      "* **Feedforward Neural Networks**: The most basic type of neural network, where data flows only in one direction.\n",
      "* **Recurrent Neural Networks (RNNs)**: Designed for sequential data, such as time series or natural language processing tasks.\n",
      "* **Convolutional Neural Networks (CNNs)**: Used for image and video analysis tasks.\n",
      "\n",
      "**Recommended Resources**\n",
      "\n",
      "For further learning about neural networks, I recommend the following resources:\n",
      "\n",
      "**Books**\n",
      "\n",
      "1. \"Deep Learning\" by Ian Goodfellow, Yoshua Bengio, and Aaron Courville - A comprehensive textbook on deep learning techniques.\n",
      "2. \"Neural Networks and Deep Learning\" by Jason Brownlee - A practical guide to building and training neural networks.\n",
      "3. \"Pattern Recognition and Machine Learning\" by Christopher Bishop - A classic text on machine learning that covers neural networks in detail.\n",
      "\n",
      "**Courses**\n",
      "\n",
      "1. **Deep Learning Specialization** by Andrew Ng on Coursera - A series of courses that cover the fundamentals of deep learning.\n",
      "2. **Neural Networks** by Stanford University on Coursera - A course that covers the basics of neural networks and deep learning.\n",
      "3. **Deep Learning with Python** by Microsoft on edX - A course that focuses on building and training neural networks using Python.\n",
      "\n",
      "**Articles**\n",
      "\n",
      "1. \"The Neural Network\" by Geoffrey Hinton - A seminal paper that introduced the concept of neural networks to the AI community.\n",
      "2. \"Deep Learning\" by Yann LeCun, Yoshua Bengio, and Aaron Courville - A paper that discusses the current state of deep learning techniques.\n",
      "3. \"How Neural Networks Work\" by Chris Manning - An article that provides an introduction to the basics of neural networks.\n",
      "\n",
      "**Software**\n",
      "\n",
      "1. **TensorFlow**: An open-source software framework for building and training neural networks.\n",
      "2. **PyTorch**: A Python library for building and training neural networks.\n",
      "3. **Keras**: A high-level interface for building and training neural networks on top of TensorFlow or PyTorch.\n",
      "\n",
      "I hope this provides a comprehensive overview of neural networks, including their structure and function, as well as resources for further learning!\u001b[00m\n",
      "\n",
      "\n",
      "Your final answer must be the great and the most complete as possible, it must be outcome described.\n",
      "\n",
      "**What are Neural Networks?**\n",
      "\n",
      "A neural network is a machine learning model inspired by the structure and function of the human brain. It consists of interconnected nodes or \"neurons\" that process and transmit information. Each neuron receives one or more inputs, performs a computation on those inputs, and then sends the output to other neurons.\n",
      "\n",
      "**Structure of Neural Networks**\n",
      "\n",
      "A typical neural network is composed of three layers:\n",
      "\n",
      "1. **Input Layer**: This layer receives the input data, which can be in the form of images, text, audio, or any other type of data.\n",
      "2. **Hidden Layers**: These layers are where the complex computations take place. Each neuron in a hidden layer applies an activation function to the weighted sum of its inputs, producing an output that is fed into the next layer.\n",
      "3. **Output Layer**: This layer generates the final output of the network, which can be a classification, regression, or any other type of prediction.\n",
      "\n",
      "**Function of Neural Networks**\n",
      "\n",
      "Neural networks are designed to perform tasks such as:\n",
      "\n",
      "* Image recognition and classification\n",
      "* Natural language processing (NLP) and text analysis\n",
      "* Speech recognition and synthesis\n",
      "* Predictive modeling and forecasting\n",
      "\n",
      "The key to the success of neural networks lies in their ability to learn from data. During training, the network adjusts its weights and biases to minimize the error between its predictions and the actual output. This process is repeated millions of times, allowing the network to improve its accuracy and make more accurate predictions.\n",
      "\n",
      "**Types of Neural Networks**\n",
      "\n",
      "There are several types of neural networks, including:\n",
      "\n",
      "* **Feedforward Neural Networks**: The most basic type of neural network, where data flows only in one direction.\n",
      "* **Recurrent Neural Networks (RNNs)**: Designed for sequential data, such as time series or natural language processing tasks.\n",
      "* **Convolutional Neural Networks (CNNs)**: Used for image and video analysis tasks.\n",
      "\n",
      "**Recommended Resources**\n",
      "\n",
      "For further learning about neural networks, I recommend the following resources:\n",
      "\n",
      "**Books**\n",
      "\n",
      "1. \"Deep Learning\" by Ian Goodfellow, Yoshua Bengio, and Aaron Courville - A comprehensive textbook on deep learning techniques.\n",
      "2. \"Neural Networks and Deep Learning\" by Jason Brownlee - A practical guide to building and training neural networks.\n",
      "3. \"Pattern Recognition and Machine Learning\" by Christopher Bishop - A classic text on machine learning that covers neural networks in detail.\n",
      "\n",
      "**Courses**\n",
      "\n",
      "1. **Deep Learning Specialization** by Andrew Ng on Coursera - A series of courses that cover the fundamentals of deep learning.\n",
      "2. **Neural Networks** by Stanford University on Coursera - A course that covers the basics of neural networks and deep learning.\n",
      "3. **Deep Learning with Python** by Microsoft on edX - A course that focuses on building and training neural networks using Python.\n",
      "\n",
      "**Articles**\n",
      "\n",
      "1. \"The Neural Network\" by Geoffrey Hinton - A seminal paper that introduced the concept of neural networks to the AI community.\n",
      "2. \"Deep Learning\" by Yann LeCun, Yoshua Bengio, and Aaron Courville - A paper that discusses the current state of deep learning techniques.\n",
      "3. \"How Neural Networks Work\" by Chris Manning - An article that provides an introduction to the basics of neural networks.\n",
      "\n",
      "**Software**\n",
      "\n",
      "1. **TensorFlow**: An open-source software framework for building and training neural networks.\n",
      "2. **PyTorch**: A Python library for building and training neural networks.\n",
      "3. **Keras**: A high-level interface for building and training neural networks on top of TensorFlow or PyTorch.\n",
      "\n",
      "I hope this provides a comprehensive overview of neural networks, including their structure and function, as well as resources for further learning!\n"
     ]
    }
   ],
   "source": [
    "result = my_crew.kickoff()\n",
    "print(result)\n"
   ]
  },
  {
   "cell_type": "code",
   "execution_count": null,
   "id": "5e6a0c12-d7d5-48b4-a80a-c754e224546a",
   "metadata": {},
   "outputs": [],
   "source": []
  }
 ],
 "metadata": {
  "kernelspec": {
   "display_name": "Python [conda env:crewai_env]",
   "language": "python",
   "name": "conda-env-crewai_env-py"
  },
  "language_info": {
   "codemirror_mode": {
    "name": "ipython",
    "version": 3
   },
   "file_extension": ".py",
   "mimetype": "text/x-python",
   "name": "python",
   "nbconvert_exporter": "python",
   "pygments_lexer": "ipython3",
   "version": "3.10.16"
  }
 },
 "nbformat": 4,
 "nbformat_minor": 5
}
